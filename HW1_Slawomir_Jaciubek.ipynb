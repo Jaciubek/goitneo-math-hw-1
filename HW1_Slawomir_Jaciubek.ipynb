{
  "nbformat": 4,
  "nbformat_minor": 0,
  "metadata": {
    "colab": {
      "provenance": []
    },
    "kernelspec": {
      "name": "python3",
      "display_name": "Python 3"
    },
    "language_info": {
      "name": "python"
    }
  },
  "cells": [
    {
      "cell_type": "markdown",
      "source": [
        "Work in Google Colab. Calculation of the forecasted happiness indicator."
      ],
      "metadata": {
        "id": "BxPRFby-V0xh"
      }
    },
    {
      "cell_type": "markdown",
      "source": [
        "1. Input the vector (matrix of size 8) A. Vector A represents your life balance wheel metrics."
      ],
      "metadata": {
        "id": "s9mwiewD3ji9"
      }
    },
    {
      "cell_type": "code",
      "source": [
        "import numpy as np\n",
        "\n",
        "a = np.array([4,3,2,5,7,4,3,7])\n",
        "print(a)"
      ],
      "metadata": {
        "id": "IDGtmvwNV1Oh",
        "colab": {
          "base_uri": "https://localhost:8080/"
        },
        "outputId": "5ed4cd65-af95-4e70-e903-3d40ec7b57a8"
      },
      "execution_count": 1,
      "outputs": [
        {
          "output_type": "stream",
          "name": "stdout",
          "text": [
            "[4 3 2 5 7 4 3 7]\n"
          ]
        }
      ]
    },
    {
      "cell_type": "markdown",
      "source": [
        "2. Calculate the sum of the elements of vector A. This is your current “happiness indicator.”"
      ],
      "metadata": {
        "id": "fS0c-uqu6TJx"
      }
    },
    {
      "cell_type": "code",
      "source": [
        "import numpy as np\n",
        "\n",
        "sum_a = np.sum(a)\n",
        "print(a)"
      ],
      "metadata": {
        "colab": {
          "base_uri": "https://localhost:8080/"
        },
        "outputId": "2ff6419d-a951-48c2-9f68-15cd5cde07dc",
        "id": "HJlNms4V6eLS"
      },
      "execution_count": 2,
      "outputs": [
        {
          "output_type": "stream",
          "name": "stdout",
          "text": [
            "35\n"
          ]
        }
      ]
    },
    {
      "cell_type": "markdown",
      "source": [
        "3. Input vector B. These are the metrics of your life distribution across different spheres."
      ],
      "metadata": {
        "id": "-cjCUG2P7N2o"
      }
    },
    {
      "cell_type": "code",
      "source": [
        "import numpy as np\n",
        "\n",
        "b = np.array([4,7,56,2,20,12,1,4])\n",
        "print(b)"
      ],
      "metadata": {
        "colab": {
          "base_uri": "https://localhost:8080/"
        },
        "outputId": "be969548-1550-440f-c628-c3d135fc21fb",
        "id": "HFYRHMPg7lw-"
      },
      "execution_count": 3,
      "outputs": [
        {
          "output_type": "stream",
          "name": "stdout",
          "text": [
            "[ 4  7 56  2 20 12  1  4]\n"
          ]
        }
      ]
    },
    {
      "cell_type": "markdown",
      "source": [
        "4. Calculate vector C, which equals C = A / B. This is your life efficiency showing how many \"happiness points\" you get for 1 hour per week that you dedicate to a particular sphere."
      ],
      "metadata": {
        "id": "Mx4suj6M8C9G"
      }
    },
    {
      "cell_type": "code",
      "source": [
        "import numpy as np\n",
        "\n",
        "c = a/b\n",
        "print(c)"
      ],
      "metadata": {
        "colab": {
          "base_uri": "https://localhost:8080/"
        },
        "id": "qA0eKSx68NT2",
        "outputId": "e0d58431-4a9b-433f-eb38-a43dac676af1"
      },
      "execution_count": 4,
      "outputs": [
        {
          "output_type": "stream",
          "name": "stdout",
          "text": [
            "[1.         0.42857143 0.03571429 2.5        0.35       0.33333333\n",
            " 3.         1.75      ]\n"
          ]
        }
      ]
    },
    {
      "cell_type": "markdown",
      "source": [
        "5. Make up your mind to do rapid changes in your life. Think how you would like to redistribute your time. Record the result of the new time distribution in the Google Sheets in the column \"Redistributed Number of Hours\" on the sheet \"Mathematical Apparatus\" and in Colab input it as vector D."
      ],
      "metadata": {
        "id": "pFq62rYM9EvX"
      }
    },
    {
      "cell_type": "code",
      "source": [
        "import numpy as np\n",
        "\n",
        "d = np.array([12,14,30,8,10,18,6,8])\n",
        "print(d)"
      ],
      "metadata": {
        "colab": {
          "base_uri": "https://localhost:8080/"
        },
        "outputId": "adeb5d22-493c-4ce2-cc38-66c56b72db8f",
        "id": "yJNrtXSP9SiQ"
      },
      "execution_count": 5,
      "outputs": [
        {
          "output_type": "stream",
          "name": "stdout",
          "text": [
            "[12 14 30  8 10 18  6  8]\n"
          ]
        }
      ]
    },
    {
      "cell_type": "markdown",
      "source": [
        "6. Calculate vector E as E = D * C. This is your forecasted satisfaction with the respective life spheres."
      ],
      "metadata": {
        "id": "IDJVeo3E9ncx"
      }
    },
    {
      "cell_type": "code",
      "source": [
        "import numpy as np\n",
        "\n",
        "e = d*c\n",
        "print(e)"
      ],
      "metadata": {
        "colab": {
          "base_uri": "https://localhost:8080/"
        },
        "id": "ogLyD_Yz98zd",
        "outputId": "f218d2c5-8fec-45d8-b775-7666c039e55d"
      },
      "execution_count": 6,
      "outputs": [
        {
          "output_type": "stream",
          "name": "stdout",
          "text": [
            "[12.          6.          1.07142857 20.          3.5         6.\n",
            " 18.         14.        ]\n"
          ]
        }
      ]
    },
    {
      "cell_type": "markdown",
      "source": [
        "7. Calculate the sum of the vector E elements, which will show you the forecasted happiness indicator if you make rapid changes in your life by redistributing your time."
      ],
      "metadata": {
        "id": "-1riQsbs-QKg"
      }
    },
    {
      "cell_type": "code",
      "source": [
        "import numpy as np\n",
        "\n",
        "sum_e = np.sum(e)\n",
        "print(int(sum_e))"
      ],
      "metadata": {
        "colab": {
          "base_uri": "https://localhost:8080/"
        },
        "outputId": "b970917f-8dcc-456d-df4f-d3346f386b31",
        "id": "y6QeGtTV-aNo"
      },
      "execution_count": 13,
      "outputs": [
        {
          "output_type": "stream",
          "name": "stdout",
          "text": [
            "80\n"
          ]
        }
      ]
    }
  ]
}